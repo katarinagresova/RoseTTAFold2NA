{
 "cells": [
  {
   "cell_type": "markdown",
   "id": "54e78362-c0f6-4aa9-b506-59434726e528",
   "metadata": {},
   "source": [
    "# Setup"
   ]
  },
  {
   "cell_type": "code",
   "execution_count": 1,
   "id": "312aace6-4bc4-430e-9348-5197db88b0d3",
   "metadata": {},
   "outputs": [],
   "source": [
    "from pathlib import Path\n",
    "from urllib.request import urlretrieve\n",
    "import pandas as pd"
   ]
  },
  {
   "cell_type": "markdown",
   "id": "3cf2ae70-1125-42e9-b444-faad082a0da2",
   "metadata": {},
   "source": [
    "# Download data\n",
    "\n",
    "The data we are using for this experiment comes from the [miRBind paper](https://doi.org/10.3390/genes13122323) (and originaly from the Helwak CLASH experiment). We have a 20nt miRNA sequences, 50nt gene sequences (lengths might slightly differ) and labels if these sequences interact together (1) or not (0)."
   ]
  },
  {
   "cell_type": "code",
   "execution_count": 3,
   "id": "47150977-4735-4305-8e8e-bc87c4267f6b",
   "metadata": {},
   "outputs": [
    {
     "name": "stdout",
     "output_type": "stream",
     "text": [
      "Data file already present.\n"
     ]
    }
   ],
   "source": [
    "url = \"https://raw.githubusercontent.com/ML-Bioinfo-CEITEC/miRBind/main/Datasets/train_set_1_10_CLASH2013_paper.tsv\"\n",
    "clash_data = Path(\"train_set_1_10_CLASH2013_paper.tsv\")\n",
    "\n",
    "if not clash_data.is_file():\n",
    "    print(\"Data file not present, downloading it.\")\n",
    "    urlretrieve(url, clash_data.name)\n",
    "else:\n",
    "    print(\"Data file already present.\")"
   ]
  },
  {
   "cell_type": "code",
   "execution_count": 4,
   "id": "bbed998c-5bcb-4aa5-9755-4834bdca534e",
   "metadata": {},
   "outputs": [
    {
     "data": {
      "text/html": [
       "<div>\n",
       "<style scoped>\n",
       "    .dataframe tbody tr th:only-of-type {\n",
       "        vertical-align: middle;\n",
       "    }\n",
       "\n",
       "    .dataframe tbody tr th {\n",
       "        vertical-align: top;\n",
       "    }\n",
       "\n",
       "    .dataframe thead th {\n",
       "        text-align: right;\n",
       "    }\n",
       "</style>\n",
       "<table border=\"1\" class=\"dataframe\">\n",
       "  <thead>\n",
       "    <tr style=\"text-align: right;\">\n",
       "      <th></th>\n",
       "      <th>miRNA</th>\n",
       "      <th>gene</th>\n",
       "      <th>label</th>\n",
       "    </tr>\n",
       "  </thead>\n",
       "  <tbody>\n",
       "    <tr>\n",
       "      <th>0</th>\n",
       "      <td>TGTAAACATCCTCGACTGGA</td>\n",
       "      <td>GTCGAGAAGTCAACGACTCAATGAAGAATTCCACTTATGGCGTGAA...</td>\n",
       "      <td>1</td>\n",
       "    </tr>\n",
       "    <tr>\n",
       "      <th>1</th>\n",
       "      <td>TGAGACCTCTGGGTTCTGAG</td>\n",
       "      <td>GACCTCAGAGCTCCAGGATCATCAGTAAATTTGTCATGTTATATAT...</td>\n",
       "      <td>1</td>\n",
       "    </tr>\n",
       "    <tr>\n",
       "      <th>2</th>\n",
       "      <td>GAGGGTTGGGTGGAGGCTCT</td>\n",
       "      <td>TGCCATAATGAACCGTCCAGCCCCTGTGGAGATCTCCTATGAGAAC...</td>\n",
       "      <td>1</td>\n",
       "    </tr>\n",
       "    <tr>\n",
       "      <th>3</th>\n",
       "      <td>CAAAGTGCTTACAGTGCAGG</td>\n",
       "      <td>CACCAGAATTGCCAAAGCACATATATAATAAATTAGATAAAGGGCA...</td>\n",
       "      <td>1</td>\n",
       "    </tr>\n",
       "    <tr>\n",
       "      <th>4</th>\n",
       "      <td>TTAGGGCCCTGGCTCCATCT</td>\n",
       "      <td>AGCCAAGTGGAGAAGGGTTCCTATCCCTGGCAGGTATCTCTGAAAC...</td>\n",
       "      <td>1</td>\n",
       "    </tr>\n",
       "    <tr>\n",
       "      <th>...</th>\n",
       "      <td>...</td>\n",
       "      <td>...</td>\n",
       "      <td>...</td>\n",
       "    </tr>\n",
       "    <tr>\n",
       "      <th>169307</th>\n",
       "      <td>CAAATTCGTATCTAGGGGAA</td>\n",
       "      <td>GCAGGTAGGTTTGGCTAGGGGGAAATGTTTAACTTGTTCTGAAAGA...</td>\n",
       "      <td>0</td>\n",
       "    </tr>\n",
       "    <tr>\n",
       "      <th>169308</th>\n",
       "      <td>GGGCTCACATCACCCCAT</td>\n",
       "      <td>TGGTTTGGTGGGGCTGCGGCCACTTAAAACCTCCCGATCTCTTTTT...</td>\n",
       "      <td>0</td>\n",
       "    </tr>\n",
       "    <tr>\n",
       "      <th>169309</th>\n",
       "      <td>ACCCTATCAATATTGTCTCT</td>\n",
       "      <td>CTATGCCGACCTGGAAGCTGTTAATCGAGCCAGGCGCCCGTTAGCA...</td>\n",
       "      <td>0</td>\n",
       "    </tr>\n",
       "    <tr>\n",
       "      <th>169310</th>\n",
       "      <td>TGTGTCACTCGATGACCACT</td>\n",
       "      <td>CGTTGGGGACGTGCTGGTGTTAACCAAACCGTTAGGAACCCAGGTT...</td>\n",
       "      <td>0</td>\n",
       "    </tr>\n",
       "    <tr>\n",
       "      <th>169311</th>\n",
       "      <td>ACAGGTGAGGTTCTTGGGAG</td>\n",
       "      <td>CCTTGTGACATTCTCTGTTTCTCAGAGTCATTGCCGTCGAGTCTCT...</td>\n",
       "      <td>0</td>\n",
       "    </tr>\n",
       "  </tbody>\n",
       "</table>\n",
       "<p>169312 rows × 3 columns</p>\n",
       "</div>"
      ],
      "text/plain": [
       "                       miRNA  \\\n",
       "0       TGTAAACATCCTCGACTGGA   \n",
       "1       TGAGACCTCTGGGTTCTGAG   \n",
       "2       GAGGGTTGGGTGGAGGCTCT   \n",
       "3       CAAAGTGCTTACAGTGCAGG   \n",
       "4       TTAGGGCCCTGGCTCCATCT   \n",
       "...                      ...   \n",
       "169307  CAAATTCGTATCTAGGGGAA   \n",
       "169308    GGGCTCACATCACCCCAT   \n",
       "169309  ACCCTATCAATATTGTCTCT   \n",
       "169310  TGTGTCACTCGATGACCACT   \n",
       "169311  ACAGGTGAGGTTCTTGGGAG   \n",
       "\n",
       "                                                     gene  label  \n",
       "0       GTCGAGAAGTCAACGACTCAATGAAGAATTCCACTTATGGCGTGAA...      1  \n",
       "1       GACCTCAGAGCTCCAGGATCATCAGTAAATTTGTCATGTTATATAT...      1  \n",
       "2       TGCCATAATGAACCGTCCAGCCCCTGTGGAGATCTCCTATGAGAAC...      1  \n",
       "3       CACCAGAATTGCCAAAGCACATATATAATAAATTAGATAAAGGGCA...      1  \n",
       "4       AGCCAAGTGGAGAAGGGTTCCTATCCCTGGCAGGTATCTCTGAAAC...      1  \n",
       "...                                                   ...    ...  \n",
       "169307  GCAGGTAGGTTTGGCTAGGGGGAAATGTTTAACTTGTTCTGAAAGA...      0  \n",
       "169308  TGGTTTGGTGGGGCTGCGGCCACTTAAAACCTCCCGATCTCTTTTT...      0  \n",
       "169309  CTATGCCGACCTGGAAGCTGTTAATCGAGCCAGGCGCCCGTTAGCA...      0  \n",
       "169310  CGTTGGGGACGTGCTGGTGTTAACCAAACCGTTAGGAACCCAGGTT...      0  \n",
       "169311  CCTTGTGACATTCTCTGTTTCTCAGAGTCATTGCCGTCGAGTCTCT...      0  \n",
       "\n",
       "[169312 rows x 3 columns]"
      ]
     },
     "execution_count": 4,
     "metadata": {},
     "output_type": "execute_result"
    }
   ],
   "source": [
    "df = pd.read_csv(clash_data, sep='\\t')\n",
    "df"
   ]
  },
  {
   "cell_type": "markdown",
   "id": "bcb78965-57ad-4e6c-a76e-f1c0b1438389",
   "metadata": {},
   "source": [
    "# Select sequences for an experiment"
   ]
  },
  {
   "cell_type": "code",
   "execution_count": 5,
   "id": "e83b635a-56dd-45fe-b415-4eb7e2145365",
   "metadata": {},
   "outputs": [
    {
     "data": {
      "text/plain": [
       "miRNA\n",
       "TATTGCACTTGTCCCGGCCT    1252\n",
       "TCCGAGCCTGGGTCTCCCTC    1168\n",
       "TCAGGCTCAGTCCCCTCCCG    1096\n",
       "TGAGGTAGTAGGTTGTGTGG     885\n",
       "AAAAGCTGGGTTGAGAGGGC     880\n",
       "                        ... \n",
       "CCCTGAGACCCTAACCTTAA     352\n",
       "AAAAGTAATTGCGGTCTTTG     352\n",
       "CCAAAACTGCAGTTACTTTT     345\n",
       "ACCCGTCCCGTTCGTCCCCG     334\n",
       "TCAGCACCAGGATATTGTTG     329\n",
       "Name: count, Length: 396, dtype: int64"
      ]
     },
     "execution_count": 5,
     "metadata": {},
     "output_type": "execute_result"
    }
   ],
   "source": [
    "df.miRNA.value_counts()"
   ]
  },
  {
   "cell_type": "code",
   "execution_count": 6,
   "id": "c16bcd1c-5881-4ff8-9b07-01d5e93f5257",
   "metadata": {},
   "outputs": [],
   "source": [
    "miRNA = \"TATTGCACTTGTCCCGGCCT\""
   ]
  },
  {
   "cell_type": "code",
   "execution_count": 7,
   "id": "09ac75a9-0c12-4713-a051-cf690988b123",
   "metadata": {},
   "outputs": [
    {
     "data": {
      "text/plain": [
       "label\n",
       "1    895\n",
       "0    357\n",
       "Name: count, dtype: int64"
      ]
     },
     "execution_count": 7,
     "metadata": {},
     "output_type": "execute_result"
    }
   ],
   "source": [
    "df[df[\"miRNA\"] == miRNA][\"label\"].value_counts()"
   ]
  },
  {
   "cell_type": "code",
   "execution_count": 8,
   "id": "4ee1b896-6e70-44f0-92c7-aeedaeba221c",
   "metadata": {},
   "outputs": [
    {
     "data": {
      "text/html": [
       "<div>\n",
       "<style scoped>\n",
       "    .dataframe tbody tr th:only-of-type {\n",
       "        vertical-align: middle;\n",
       "    }\n",
       "\n",
       "    .dataframe tbody tr th {\n",
       "        vertical-align: top;\n",
       "    }\n",
       "\n",
       "    .dataframe thead th {\n",
       "        text-align: right;\n",
       "    }\n",
       "</style>\n",
       "<table border=\"1\" class=\"dataframe\">\n",
       "  <thead>\n",
       "    <tr style=\"text-align: right;\">\n",
       "      <th></th>\n",
       "      <th>miRNA</th>\n",
       "      <th>gene</th>\n",
       "      <th>label</th>\n",
       "    </tr>\n",
       "  </thead>\n",
       "  <tbody>\n",
       "    <tr>\n",
       "      <th>0</th>\n",
       "      <td>TATTGCACTTGTCCCGGCCT</td>\n",
       "      <td>AGCACTGCCGCCGGGGACTGCTCAGCAACCACACCGGCAGCCCGCG...</td>\n",
       "      <td>1</td>\n",
       "    </tr>\n",
       "    <tr>\n",
       "      <th>1</th>\n",
       "      <td>TATTGCACTTGTCCCGGCCT</td>\n",
       "      <td>CTTCTCGGAGACGGTGCGCATCATCAACCGCAAGGTGAAGCCGCGG...</td>\n",
       "      <td>1</td>\n",
       "    </tr>\n",
       "    <tr>\n",
       "      <th>2</th>\n",
       "      <td>TATTGCACTTGTCCCGGCCT</td>\n",
       "      <td>GGGCTGGGCAAAGAATGTGCAAAAGTCTTCTATGCTGCGGGTGCTA...</td>\n",
       "      <td>1</td>\n",
       "    </tr>\n",
       "    <tr>\n",
       "      <th>3</th>\n",
       "      <td>TATTGCACTTGTCCCGGCCT</td>\n",
       "      <td>TCCACTAGAAGGCTGGGACAGCACCGGTGATTACTGTCTTTCCTGC...</td>\n",
       "      <td>1</td>\n",
       "    </tr>\n",
       "    <tr>\n",
       "      <th>4</th>\n",
       "      <td>TATTGCACTTGTCCCGGCCT</td>\n",
       "      <td>AGTTCACAGGCTTTGTGGACATGTGTGTGCAGCATATCCCTTCTCC...</td>\n",
       "      <td>1</td>\n",
       "    </tr>\n",
       "    <tr>\n",
       "      <th>...</th>\n",
       "      <td>...</td>\n",
       "      <td>...</td>\n",
       "      <td>...</td>\n",
       "    </tr>\n",
       "    <tr>\n",
       "      <th>595</th>\n",
       "      <td>TATTGCACTTGTCCCGGCCT</td>\n",
       "      <td>CCCATTTTGTTGTTCAGGTCAACAGCAAAATGCCTGCACCATGACT...</td>\n",
       "      <td>0</td>\n",
       "    </tr>\n",
       "    <tr>\n",
       "      <th>596</th>\n",
       "      <td>TATTGCACTTGTCCCGGCCT</td>\n",
       "      <td>ATATAAATCTCCTGCTACCTCACCCATTAGTAGTAATTCTCACAGG...</td>\n",
       "      <td>0</td>\n",
       "    </tr>\n",
       "    <tr>\n",
       "      <th>597</th>\n",
       "      <td>TATTGCACTTGTCCCGGCCT</td>\n",
       "      <td>GTAAATGTCTGTTTTTCATAATTGCTCTTTATATTGTGTGTTATCT...</td>\n",
       "      <td>0</td>\n",
       "    </tr>\n",
       "    <tr>\n",
       "      <th>598</th>\n",
       "      <td>TATTGCACTTGTCCCGGCCT</td>\n",
       "      <td>GTCCAGCAGGTTTCTGCCCTGACATTCTCTTGTCTGCTATTCCCAG...</td>\n",
       "      <td>0</td>\n",
       "    </tr>\n",
       "    <tr>\n",
       "      <th>599</th>\n",
       "      <td>TATTGCACTTGTCCCGGCCT</td>\n",
       "      <td>GAATGTGTTTGTGATGGGGATGACCAAGACTTTTGCAATTTTCTTT...</td>\n",
       "      <td>0</td>\n",
       "    </tr>\n",
       "  </tbody>\n",
       "</table>\n",
       "<p>600 rows × 3 columns</p>\n",
       "</div>"
      ],
      "text/plain": [
       "                    miRNA                                               gene  \\\n",
       "0    TATTGCACTTGTCCCGGCCT  AGCACTGCCGCCGGGGACTGCTCAGCAACCACACCGGCAGCCCGCG...   \n",
       "1    TATTGCACTTGTCCCGGCCT  CTTCTCGGAGACGGTGCGCATCATCAACCGCAAGGTGAAGCCGCGG...   \n",
       "2    TATTGCACTTGTCCCGGCCT  GGGCTGGGCAAAGAATGTGCAAAAGTCTTCTATGCTGCGGGTGCTA...   \n",
       "3    TATTGCACTTGTCCCGGCCT  TCCACTAGAAGGCTGGGACAGCACCGGTGATTACTGTCTTTCCTGC...   \n",
       "4    TATTGCACTTGTCCCGGCCT  AGTTCACAGGCTTTGTGGACATGTGTGTGCAGCATATCCCTTCTCC...   \n",
       "..                    ...                                                ...   \n",
       "595  TATTGCACTTGTCCCGGCCT  CCCATTTTGTTGTTCAGGTCAACAGCAAAATGCCTGCACCATGACT...   \n",
       "596  TATTGCACTTGTCCCGGCCT  ATATAAATCTCCTGCTACCTCACCCATTAGTAGTAATTCTCACAGG...   \n",
       "597  TATTGCACTTGTCCCGGCCT  GTAAATGTCTGTTTTTCATAATTGCTCTTTATATTGTGTGTTATCT...   \n",
       "598  TATTGCACTTGTCCCGGCCT  GTCCAGCAGGTTTCTGCCCTGACATTCTCTTGTCTGCTATTCCCAG...   \n",
       "599  TATTGCACTTGTCCCGGCCT  GAATGTGTTTGTGATGGGGATGACCAAGACTTTTGCAATTTTCTTT...   \n",
       "\n",
       "     label  \n",
       "0        1  \n",
       "1        1  \n",
       "2        1  \n",
       "3        1  \n",
       "4        1  \n",
       "..     ...  \n",
       "595      0  \n",
       "596      0  \n",
       "597      0  \n",
       "598      0  \n",
       "599      0  \n",
       "\n",
       "[600 rows x 3 columns]"
      ]
     },
     "execution_count": 8,
     "metadata": {},
     "output_type": "execute_result"
    }
   ],
   "source": [
    "df_example = pd.concat([df[df[\"miRNA\"] == miRNA][:300], \n",
    "                        df[df[\"miRNA\"] == miRNA][-300:]], \n",
    "                       ignore_index=True)\n",
    "df_example"
   ]
  },
  {
   "cell_type": "markdown",
   "id": "4e83b18b-0e70-477b-8113-577f6ddc4690",
   "metadata": {},
   "source": [
    "# Save sequences for RoseTTAFold2NA\n",
    "\n",
    "I have decided to do embedding computation in this more complicated way so I can store the structure and precomputed alignements in case I will want to recompute the embeddings. Prediction is faster than MSA computation. So if I will change the embedding extraction, I will have the MSA already pre-computed."
   ]
  },
  {
   "cell_type": "markdown",
   "id": "a6a73aa3-44f3-468f-bec4-b75e2d7b3c6c",
   "metadata": {},
   "source": [
    "# Compute embeddings"
   ]
  },
  {
   "cell_type": "code",
   "execution_count": 12,
   "id": "c6d9773e-a0ee-408e-a706-0ce8001b1ce4",
   "metadata": {},
   "outputs": [],
   "source": [
    "!mkdir miRNA -p"
   ]
  },
  {
   "cell_type": "code",
   "execution_count": 20,
   "id": "75459e76-fee9-4600-becc-a5beb0de9ed6",
   "metadata": {},
   "outputs": [],
   "source": [
    "!mkdir miRNA/example_ago_miRNA -p"
   ]
  },
  {
   "cell_type": "markdown",
   "id": "15b57980-35c7-4075-bf42-26b0f58645e3",
   "metadata": {},
   "source": [
    "Saving selected miRNA sequence to a fasta file."
   ]
  },
  {
   "cell_type": "code",
   "execution_count": 21,
   "id": "462bea87-bf09-437a-b3a9-ac48adb6cffe",
   "metadata": {},
   "outputs": [],
   "source": [
    "with open(\"miRNA/example_ago_miRNA/miRNA.fa\", \"w\") as handle:\n",
    "    handle.write(\">miRNA\\n\")\n",
    "    handle.write(miRNA)"
   ]
  },
  {
   "cell_type": "markdown",
   "id": "aa7b26d0-43f9-4694-bea8-c1de4a2e7a7b",
   "metadata": {},
   "source": [
    "Saving Human AGO2 protein sequence to a fasta file."
   ]
  },
  {
   "cell_type": "code",
   "execution_count": 13,
   "id": "eeedfc61-2b77-4ef7-83d9-d40e9b814101",
   "metadata": {},
   "outputs": [
    {
     "name": "stdout",
     "output_type": "stream",
     "text": [
      "--2023-10-31 15:07:40--  https://rest.uniprot.org/uniprotkb/Q9UKV8.fasta\n",
      "Resolving rest.uniprot.org (rest.uniprot.org)... 193.62.193.81\n",
      "Connecting to rest.uniprot.org (rest.uniprot.org)|193.62.193.81|:443... connected.\n",
      "HTTP request sent, awaiting response... 200 OK\n",
      "Length: unspecified [text/plain]\n",
      "Saving to: ‘Q9UKV8.fasta’\n",
      "\n",
      "Q9UKV8.fasta            [ <=>                ]     958  --.-KB/s    in 0s      \n",
      "\n",
      "2023-10-31 15:07:40 (140 MB/s) - ‘Q9UKV8.fasta’ saved [958]\n",
      "\n"
     ]
    }
   ],
   "source": [
    "!wget https://rest.uniprot.org/uniprotkb/Q9UKV8.fasta\n",
    "!mv Q9UKV8.fasta miRNA/example_ago_miRNA/AGO2_human.fa"
   ]
  },
  {
   "cell_type": "code",
   "execution_count": 11,
   "id": "491ce38c-f953-4e6e-b017-6d76d197f565",
   "metadata": {},
   "outputs": [],
   "source": [
    "import os\n",
    "\n",
    "lenght = len(df[df[\"miRNA\"] == miRNA])\n",
    "\n",
    "for i in range(300):\n",
    "    \n",
    "    pos_dir_name = \"miRNA/example_pos_\" + str(i)\n",
    "    #os.mkdir(pos_dir_name)\n",
    "    if not os.path.exists(pos_dir_name):\n",
    "        os.makedirs(pos_dir_name)\n",
    "    pos_mRNA = df[df[\"miRNA\"] == miRNA].iloc[i][\"gene\"]\n",
    "    with open(pos_dir_name + \"/gene.fa\", \"w\") as handle:\n",
    "        handle.write(\">pos mRNA\\n\")\n",
    "        handle.write(pos_mRNA)\n",
    "    \n",
    "    neg_dir_name = \"miRNA/example_neg_\" + str(i)\n",
    "    #os.mkdir(neg_dir_name)\n",
    "    if not os.path.exists(neg_dir_name):\n",
    "        os.makedirs(neg_dir_name)\n",
    "    neg_mRNA = df[df[\"miRNA\"] == miRNA].iloc[lenght - i - 1][\"gene\"]\n",
    "    with open(neg_dir_name + \"/gene.fa\", \"w\") as handle:\n",
    "        handle.write(\">neg mRNA\\n\")\n",
    "        handle.write(neg_mRNA)\n",
    "    \n",
    "    "
   ]
  },
  {
   "cell_type": "markdown",
   "id": "0d8a4a17-d3f3-4a09-9bef-04f5a4f7de45",
   "metadata": {},
   "source": [
    "# Cleanup"
   ]
  },
  {
   "cell_type": "code",
   "execution_count": null,
   "id": "1170d519-0f30-4e49-8431-4b9b1d42a2a4",
   "metadata": {},
   "outputs": [],
   "source": [
    "os.remove(clash_data)"
   ]
  }
 ],
 "metadata": {
  "kernelspec": {
   "display_name": "Python [conda env:RF2NA]",
   "language": "python",
   "name": "conda-env-RF2NA-py"
  },
  "language_info": {
   "codemirror_mode": {
    "name": "ipython",
    "version": 3
   },
   "file_extension": ".py",
   "mimetype": "text/x-python",
   "name": "python",
   "nbconvert_exporter": "python",
   "pygments_lexer": "ipython3",
   "version": "3.10.13"
  }
 },
 "nbformat": 4,
 "nbformat_minor": 5
}
