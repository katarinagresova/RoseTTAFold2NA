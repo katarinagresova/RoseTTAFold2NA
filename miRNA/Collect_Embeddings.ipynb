{
 "cells": [
  {
   "cell_type": "code",
   "execution_count": 28,
   "id": "1490ff4d-b080-40d6-9125-657ad19d4327",
   "metadata": {},
   "outputs": [],
   "source": [
    "!mkdir embedds"
   ]
  },
  {
   "cell_type": "code",
   "execution_count": 43,
   "id": "3cb12e42-eb48-4a14-914e-d4adb339fa08",
   "metadata": {},
   "outputs": [],
   "source": [
    "from pathlib import Path\n",
    "import shutil\n",
    "import numpy as np\n",
    "\n",
    "samples_arr = []\n",
    "for i in range(300):\n",
    "    \n",
    "    pos_file = Path('example_pos_' + str(i) + \"/embbed.npy\")\n",
    "    if pos_file.is_file():\n",
    "        new_pos_file = 'embedds/pos' + str(i) + '.npy'\n",
    "        shutil.copy(pos_file, new_pos_file)\n",
    "        samples_arr.append([new_pos_file, 1])\n",
    "    else:\n",
    "        print(str(pos_file) + \" not exists\")\n",
    "    \n",
    "    neg_file = Path('example_neg_' + str(i) + \"/embbed.npy\")\n",
    "    if neg_file.is_file():\n",
    "        new_neg_file = 'embedds/neg' + str(i) + '.npy'\n",
    "        shutil.copy(neg_file, new_neg_file)\n",
    "        samples_arr.append([new_neg_file, 0])\n",
    "    else:\n",
    "        print(str(neg_file) + \" not exists\")"
   ]
  },
  {
   "cell_type": "code",
   "execution_count": 44,
   "id": "27b7e282-3c05-447f-9f5c-71c9d0db17b8",
   "metadata": {},
   "outputs": [
    {
     "data": {
      "text/plain": [
       "600"
      ]
     },
     "execution_count": 44,
     "metadata": {},
     "output_type": "execute_result"
    }
   ],
   "source": [
    "len(samples_arr)"
   ]
  },
  {
   "cell_type": "code",
   "execution_count": 45,
   "id": "4b1f4afa-b3fb-491d-87ba-3e424225040d",
   "metadata": {},
   "outputs": [
    {
     "data": {
      "text/html": [
       "<div>\n",
       "<style scoped>\n",
       "    .dataframe tbody tr th:only-of-type {\n",
       "        vertical-align: middle;\n",
       "    }\n",
       "\n",
       "    .dataframe tbody tr th {\n",
       "        vertical-align: top;\n",
       "    }\n",
       "\n",
       "    .dataframe thead th {\n",
       "        text-align: right;\n",
       "    }\n",
       "</style>\n",
       "<table border=\"1\" class=\"dataframe\">\n",
       "  <thead>\n",
       "    <tr style=\"text-align: right;\">\n",
       "      <th></th>\n",
       "      <th>path</th>\n",
       "      <th>label</th>\n",
       "    </tr>\n",
       "  </thead>\n",
       "  <tbody>\n",
       "    <tr>\n",
       "      <th>0</th>\n",
       "      <td>embedds/pos0.npy</td>\n",
       "      <td>1</td>\n",
       "    </tr>\n",
       "    <tr>\n",
       "      <th>1</th>\n",
       "      <td>embedds/neg0.npy</td>\n",
       "      <td>0</td>\n",
       "    </tr>\n",
       "    <tr>\n",
       "      <th>2</th>\n",
       "      <td>embedds/pos1.npy</td>\n",
       "      <td>1</td>\n",
       "    </tr>\n",
       "    <tr>\n",
       "      <th>3</th>\n",
       "      <td>embedds/neg1.npy</td>\n",
       "      <td>0</td>\n",
       "    </tr>\n",
       "    <tr>\n",
       "      <th>4</th>\n",
       "      <td>embedds/pos2.npy</td>\n",
       "      <td>1</td>\n",
       "    </tr>\n",
       "    <tr>\n",
       "      <th>...</th>\n",
       "      <td>...</td>\n",
       "      <td>...</td>\n",
       "    </tr>\n",
       "    <tr>\n",
       "      <th>595</th>\n",
       "      <td>embedds/neg297.npy</td>\n",
       "      <td>0</td>\n",
       "    </tr>\n",
       "    <tr>\n",
       "      <th>596</th>\n",
       "      <td>embedds/pos298.npy</td>\n",
       "      <td>1</td>\n",
       "    </tr>\n",
       "    <tr>\n",
       "      <th>597</th>\n",
       "      <td>embedds/neg298.npy</td>\n",
       "      <td>0</td>\n",
       "    </tr>\n",
       "    <tr>\n",
       "      <th>598</th>\n",
       "      <td>embedds/pos299.npy</td>\n",
       "      <td>1</td>\n",
       "    </tr>\n",
       "    <tr>\n",
       "      <th>599</th>\n",
       "      <td>embedds/neg299.npy</td>\n",
       "      <td>0</td>\n",
       "    </tr>\n",
       "  </tbody>\n",
       "</table>\n",
       "<p>600 rows × 2 columns</p>\n",
       "</div>"
      ],
      "text/plain": [
       "                   path  label\n",
       "0      embedds/pos0.npy      1\n",
       "1      embedds/neg0.npy      0\n",
       "2      embedds/pos1.npy      1\n",
       "3      embedds/neg1.npy      0\n",
       "4      embedds/pos2.npy      1\n",
       "..                  ...    ...\n",
       "595  embedds/neg297.npy      0\n",
       "596  embedds/pos298.npy      1\n",
       "597  embedds/neg298.npy      0\n",
       "598  embedds/pos299.npy      1\n",
       "599  embedds/neg299.npy      0\n",
       "\n",
       "[600 rows x 2 columns]"
      ]
     },
     "execution_count": 45,
     "metadata": {},
     "output_type": "execute_result"
    }
   ],
   "source": [
    "import pandas as pd\n",
    "\n",
    "df = pd.DataFrame(samples_arr, columns = [\"path\", \"label\"])\n",
    "df"
   ]
  },
  {
   "cell_type": "code",
   "execution_count": 46,
   "id": "8110c822-e114-451f-9c5a-e722b5f9db60",
   "metadata": {},
   "outputs": [],
   "source": [
    "df.to_csv('samples.csv', index=False) "
   ]
  },
  {
   "cell_type": "markdown",
   "id": "6a907c37-f785-4802-8813-d33d820ee9bb",
   "metadata": {},
   "source": [
    "# Show samples"
   ]
  },
  {
   "cell_type": "code",
   "execution_count": 35,
   "id": "101fecf9-5cb3-4246-9e41-46e611e7f3e7",
   "metadata": {},
   "outputs": [
    {
     "data": {
      "image/png": "[encoded data removed]",
      "text/plain": [
       "<Figure size 640x480 with 1 Axes>"
      ]
     },
     "metadata": {},
     "output_type": "display_data"
    }
   ],
   "source": [
    "import matplotlib.pyplot as plt\n",
    "\n",
    "emb_neg0 = np.load(\"embedds/neg0.npy\")\n",
    "plt.imshow(emb_neg0[0], cmap='hot', interpolation='nearest')\n",
    "plt.show()"
   ]
  },
  {
   "cell_type": "code",
   "execution_count": 36,
   "id": "3369902d-7aa8-44a7-9708-6e0a94a08008",
   "metadata": {},
   "outputs": [
    {
     "data": {
      "image/png": "[encoded data removed]",
      "text/plain": [
       "<Figure size 640x480 with 1 Axes>"
      ]
     },
     "metadata": {},
     "output_type": "display_data"
    }
   ],
   "source": [
    "emb_pos0 = np.load(\"embedds/pos0.npy\")\n",
    "plt.imshow(emb_pos0[0], cmap='hot', interpolation='nearest')\n",
    "plt.show()"
   ]
  },
  {
   "cell_type": "code",
   "execution_count": null,
   "id": "49188faf-ca9e-4088-9c01-477f83802f5f",
   "metadata": {},
   "outputs": [],
   "source": []
  }
 ],
 "metadata": {
  "kernelspec": {
   "display_name": "Python [conda env:RF2NA]",
   "language": "python",
   "name": "conda-env-RF2NA-py"
  },
  "language_info": {
   "codemirror_mode": {
    "name": "ipython",
    "version": 3
   },
   "file_extension": ".py",
   "mimetype": "text/x-python",
   "name": "python",
   "nbconvert_exporter": "python",
   "pygments_lexer": "ipython3",
   "version": "3.10.13"
  }
 },
 "nbformat": 4,
 "nbformat_minor": 5
}
